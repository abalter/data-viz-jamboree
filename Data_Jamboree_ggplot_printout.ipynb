{
 "cells": [
  {
   "cell_type": "code",
   "execution_count": null,
   "metadata": {
    "Rmd_chunk_options": "global_options, include=FALSE",
    "autoscroll": false,
    "collapsed": true
   },
   "outputs": [],
   "source": [
    "knitr::opts_chunk$set(fig.show='hide', warning=FALSE, message=FALSE)"
   ]
  },
  {
   "cell_type": "markdown",
   "metadata": {},
   "source": [
    "\n",
    "Link to paper on dataset: http://faculty.washington.edu/kenrice/heartgraphs/effectivegraphs.pdf\n",
    "\n",
    "Dataset url: http://faculty.washington.edu/kenrice/heartgraphs/\n",
    "\n",
    "###Setup\n",
    "\n",
    "####Import packages (once per machine)\n"
   ]
  },
  {
   "cell_type": "code",
   "execution_count": null,
   "metadata": {
    "Rmd_chunk_options": "install_packages, eval=FALSE",
    "autoscroll": false,
    "collapsed": true
   },
   "outputs": [],
   "source": [
    "install.packages(\"readr\")\n",
    "install.packages(\"ggplot2\")\n",
    "install.packages(\"ggbeeswarm\")\n",
    "install.packages(\"dplyr\")\n",
    "install.packages(\"MASS\")\n",
    "install.packages(\"hexbin\")"
   ]
  },
  {
   "cell_type": "markdown",
   "metadata": {},
   "source": [
    "\n",
    "####Load packages (once per R session)\n"
   ]
  },
  {
   "cell_type": "code",
   "execution_count": null,
   "metadata": {
    "Rmd_chunk_options": "load_packages",
    "autoscroll": false,
    "collapsed": true
   },
   "outputs": [],
   "source": [
    "library(readr)\n",
    "library(ggplot2)\n",
    "library(ggbeeswarm)\n",
    "library(dplyr)\n",
    "library(MASS)\n",
    "library(hexbin)"
   ]
  },
  {
   "cell_type": "markdown",
   "metadata": {},
   "source": [
    "\n",
    "####Import data (using readr)\n",
    "\n",
    "- Use readr package to import our csv\n",
    "- assign the data file to an R object using (<-)\n",
    "\n"
   ]
  },
  {
   "cell_type": "code",
   "execution_count": null,
   "metadata": {
    "Rmd_chunk_options": "import_data",
    "autoscroll": false,
    "collapsed": true
   },
   "outputs": [],
   "source": [
    "heart <- read_csv(\"http://faculty.washington.edu/kenrice/heartgraphs/nhaneslarge.csv\", na=\".\") #na= tells R that . is an na value"
   ]
  },
  {
   "cell_type": "markdown",
   "metadata": {},
   "source": [
    "\n",
    "\n",
    "- run the command head ( ) and check with your partner to see if you got the same output\n"
   ]
  },
  {
   "cell_type": "code",
   "execution_count": null,
   "metadata": {
    "Rmd_chunk_options": "head, eval=FALSE",
    "autoscroll": false,
    "collapsed": true
   },
   "outputs": [],
   "source": [
    "head(heart)"
   ]
  },
  {
   "cell_type": "markdown",
   "metadata": {},
   "source": [
    "\n",
    "## Univariate Plots: Folate intake by gender\n",
    "\n",
    "### Basic ggplot Anatomy\n",
    "\n",
    "ggplot code makes graphs by layering imformation on top of an empty plot\n"
   ]
  },
  {
   "cell_type": "code",
   "execution_count": null,
   "metadata": {
    "Rmd_chunk_options": "basic_ggplot",
    "autoscroll": false,
    "collapsed": true
   },
   "outputs": [],
   "source": [
    "ggplot(heart, aes(x=DR1TFOLA))\n",
    "#This says we want ggplot to use the data.frame heart and to plot DR1TFOLA on the x-axis."
   ]
  },
  {
   "cell_type": "markdown",
   "metadata": {},
   "source": [
    "\n",
    "\n",
    "### Histogram\n",
    "\n",
    "create a histogram by adding a geom layer and using the \"+\" sign\n"
   ]
  },
  {
   "cell_type": "code",
   "execution_count": null,
   "metadata": {
    "Rmd_chunk_options": "histogram",
    "autoscroll": false,
    "collapsed": true
   },
   "outputs": [],
   "source": [
    "ggplot(heart, aes(x=DR1TFOLA)) +\n",
    "  geom_histogram()"
   ]
  },
  {
   "cell_type": "markdown",
   "metadata": {},
   "source": [
    "\n",
    "#### Labels\n",
    "change x-axis label from \"DR1TFOLA\" to \"Folate Intake\"\n"
   ]
  },
  {
   "cell_type": "code",
   "execution_count": null,
   "metadata": {
    "Rmd_chunk_options": "change_folate_label",
    "autoscroll": false,
    "collapsed": true
   },
   "outputs": [],
   "source": [
    "ggplot(heart, aes(x=DR1TFOLA)) +\n",
    "  geom_histogram() +\n",
    "  labs(x = \"Folate intake\") #x-axis label"
   ]
  },
  {
   "cell_type": "markdown",
   "metadata": {},
   "source": [
    "\n",
    "#### Changing Colors\n",
    "\n",
    "change outline color\n"
   ]
  },
  {
   "cell_type": "code",
   "execution_count": null,
   "metadata": {
    "Rmd_chunk_options": "histogram_outline, warning=TRUE",
    "autoscroll": false,
    "collapsed": true
   },
   "outputs": [],
   "source": [
    "ggplot(heart, aes(x=DR1TFOLA)) +\n",
    "  geom_histogram(colour = \"white\") +\n",
    "  labs(x = \"Folate intake\")"
   ]
  },
  {
   "cell_type": "markdown",
   "metadata": {},
   "source": [
    "\n",
    "change the fill of the bars\n"
   ]
  },
  {
   "cell_type": "code",
   "execution_count": null,
   "metadata": {
    "Rmd_chunk_options": "histogram_fill",
    "autoscroll": false,
    "collapsed": true
   },
   "outputs": [],
   "source": [
    "ggplot(heart, aes(x=DR1TFOLA)) +\n",
    "  geom_histogram(colour = \"white\", fill = \"peachpuff\") + #yes, that is a name of a color\n",
    "  labs(x = \"Folate intake\")"
   ]
  },
  {
   "cell_type": "markdown",
   "metadata": {},
   "source": [
    "\n",
    "#### Documentation and the Help Command\n",
    "language will be different for each type of graph so make sure to reference your documentation by typing \"?command\"\n"
   ]
  },
  {
   "cell_type": "code",
   "execution_count": null,
   "metadata": {
    "Rmd_chunk_options": "help",
    "autoscroll": false,
    "collapsed": true
   },
   "outputs": [],
   "source": [
    "?geom_histogram"
   ]
  },
  {
   "cell_type": "markdown",
   "metadata": {},
   "source": [
    "\n",
    "#### Histogram Bins and ggplot Defaults\n",
    "All of our histogram plots have given us this warning:\n"
   ]
  },
  {
   "cell_type": "code",
   "execution_count": null,
   "metadata": {
    "Rmd_chunk_options": "error",
    "autoscroll": false,
    "collapsed": true
   },
   "outputs": [],
   "source": [
    "#`stat_bin()` using `bins = 30`. Pick better value with `binwidth`."
   ]
  },
  {
   "cell_type": "markdown",
   "metadata": {},
   "source": [
    "*This warning tells us that this is a default that ggplot chose for us given the data it has.*\n",
    "\n",
    "change bin size\n"
   ]
  },
  {
   "cell_type": "code",
   "execution_count": null,
   "metadata": {
    "Rmd_chunk_options": "histogram_bin",
    "autoscroll": false,
    "collapsed": true
   },
   "outputs": [],
   "source": [
    "ggplot(heart, aes(x=DR1TFOLA)) +\n",
    "  geom_histogram(colour = \"white\", fill = \"peachpuff\", bins = 50)"
   ]
  },
  {
   "cell_type": "markdown",
   "metadata": {},
   "source": [
    "\n",
    "#### Facet Wrap\n",
    "\n",
    "add facet_wrap for split plots based on a variable\n"
   ]
  },
  {
   "cell_type": "code",
   "execution_count": null,
   "metadata": {
    "Rmd_chunk_options": "histogram_facet",
    "autoscroll": false,
    "collapsed": true
   },
   "outputs": [],
   "source": [
    "ggplot(heart, aes(x = DR1TFOLA)) +\n",
    "  geom_histogram(colour = \"white\", fill = \"peachpuff\", bins = 50) +\n",
    "  labs(x = \"Folate intake\") +\n",
    "  facet_wrap(~gender)"
   ]
  },
  {
   "cell_type": "markdown",
   "metadata": {},
   "source": [
    "\n",
    "\n",
    "### Density Plot\n",
    "\n",
    "change the geom_ histogram layer to geom_density\n"
   ]
  },
  {
   "cell_type": "code",
   "execution_count": null,
   "metadata": {
    "Rmd_chunk_options": "density_facet",
    "autoscroll": false,
    "collapsed": true
   },
   "outputs": [],
   "source": [
    "ggplot(heart, aes(x = DR1TFOLA)) +\n",
    "  geom_density(colour = \"white\", fill = \"peachpuff\") +  #Make sure to take out bin=50\n",
    "  labs(x = \"Folate intake\") +\n",
    "  facet_wrap(~gender)"
   ]
  },
  {
   "cell_type": "markdown",
   "metadata": {},
   "source": [
    "\n",
    "#### Adding a third dimension onto one plot\n",
    "\n",
    "plot all three variables from last plot (folate, density, and gender) on one by using color to differentiate gender\n",
    "\n"
   ]
  },
  {
   "cell_type": "code",
   "execution_count": null,
   "metadata": {
    "Rmd_chunk_options": "density",
    "autoscroll": false,
    "collapsed": true
   },
   "outputs": [],
   "source": [
    "ggplot(heart, aes(x = DR1TFOLA)) +\n",
    "  geom_density(aes(colour = gender)) + #Notice moving the colour into aesthetics\n",
    "  labs(x = \"Folate intake\")"
   ]
  },
  {
   "cell_type": "markdown",
   "metadata": {},
   "source": [
    "\n",
    "## Univariate Plots: Systolic blood pressure by gender\n",
    "\n",
    "###Dotplot - Stripchart\n",
    "\n",
    "create a stripchart of `BPXSAR`(or systolic blood pressure) by gender\n"
   ]
  },
  {
   "cell_type": "code",
   "execution_count": null,
   "metadata": {
    "Rmd_chunk_options": "dotplot",
    "autoscroll": false,
    "collapsed": true
   },
   "outputs": [],
   "source": [
    "ggplot(heart, aes(x = gender, y = BPXSAR)) +\n",
    "  geom_point()"
   ]
  },
  {
   "cell_type": "markdown",
   "metadata": {},
   "source": [
    "\n",
    "#### Customizing our Dotplot\n",
    "\n",
    "add an alpha in the geom layer to make our points more transparent\n",
    "\n",
    " - *Alpha works on a scale from 0 (clear) to 1 (opaque)*\n",
    "\n"
   ]
  },
  {
   "cell_type": "code",
   "execution_count": null,
   "metadata": {
    "Rmd_chunk_options": "alpha",
    "autoscroll": false,
    "collapsed": true
   },
   "outputs": [],
   "source": [
    "ggplot(heart, aes(x = gender, y = BPXSAR)) +\n",
    "  geom_point(alpha = .1)"
   ]
  },
  {
   "cell_type": "markdown",
   "metadata": {},
   "source": [
    "\n",
    "add jitter to space out our points\n"
   ]
  },
  {
   "cell_type": "code",
   "execution_count": null,
   "metadata": {
    "Rmd_chunk_options": "jitter",
    "autoscroll": false,
    "collapsed": true
   },
   "outputs": [],
   "source": [
    "ggplot(heart, aes(x = gender, y = BPXSAR)) +\n",
    "  geom_jitter(alpha = .1)"
   ]
  },
  {
   "cell_type": "markdown",
   "metadata": {},
   "source": [
    "\n",
    "Notes about Jitter:\n",
    "\n",
    "- jitter automatically adds space (noise) to both the height and the width of your plots\n",
    "\n",
    "- which variables won't be effected by noice - categorical\n",
    "\n",
    "change jitter to width only\n"
   ]
  },
  {
   "cell_type": "code",
   "execution_count": null,
   "metadata": {
    "Rmd_chunk_options": "jitter_width",
    "autoscroll": false,
    "collapsed": true
   },
   "outputs": [],
   "source": [
    "ggplot(heart, aes(x = gender, y = BPXSAR)) +\n",
    "  geom_jitter(alpha = .1, width = .5, height = 0)"
   ]
  },
  {
   "cell_type": "markdown",
   "metadata": {},
   "source": [
    "\n",
    "change our x- and y-axis labels\n"
   ]
  },
  {
   "cell_type": "code",
   "execution_count": null,
   "metadata": {
    "Rmd_chunk_options": "y_axis_bp",
    "autoscroll": false,
    "collapsed": true
   },
   "outputs": [],
   "source": [
    "ggplot(heart, aes(x = gender, y = BPXSAR)) +\n",
    "  geom_jitter(alpha = .1, width = .5, height = 0) +\n",
    "  labs(x = \"\", y = \"Systolic BP (mmHg)\")"
   ]
  },
  {
   "cell_type": "markdown",
   "metadata": {},
   "source": [
    "\n",
    "### Beeswarm Plot\n",
    "\n"
   ]
  },
  {
   "cell_type": "code",
   "execution_count": null,
   "metadata": {
    "Rmd_chunk_options": "beeswarm",
    "autoscroll": false,
    "collapsed": true
   },
   "outputs": [],
   "source": [
    "ggplot(heart, aes(x = gender, y = BPXSAR)) +\n",
    "  geom_beeswarm(alpha = .2) +\n",
    "  labs(x = \"Systolic BP (mmHg)\", y = \"\")"
   ]
  },
  {
   "cell_type": "markdown",
   "metadata": {},
   "source": [
    "\n",
    "\n",
    "#### Stats layers\n",
    "\n",
    "add statistics on top of your plots with stat_summary\n"
   ]
  },
  {
   "cell_type": "code",
   "execution_count": null,
   "metadata": {
    "Rmd_chunk_options": "beeswarm_mean",
    "autoscroll": false,
    "collapsed": true
   },
   "outputs": [],
   "source": [
    "ggplot(heart, aes(x = gender, y = BPXSAR)) +\n",
    "  geom_beeswarm(alpha = .2) +\n",
    "  stat_summary(fun.y = \"mean\", geom = \"point\", colour = \"orange\") +\n",
    "  labs(x = \"Systolic BP (mmHg)\", y = \"\")"
   ]
  },
  {
   "cell_type": "markdown",
   "metadata": {},
   "source": [
    "\n",
    "\n",
    "#### Layering geom types\n",
    "\n",
    "add other plot types as geom layers\n"
   ]
  },
  {
   "cell_type": "code",
   "execution_count": null,
   "metadata": {
    "Rmd_chunk_options": "boxplot_beeswarm",
    "autoscroll": false,
    "collapsed": true
   },
   "outputs": [],
   "source": [
    "ggplot(heart, aes(x = gender, y = BPXSAR)) +\n",
    "  geom_boxplot(outlier.shape = NA) +   #outlier.shape=NA tells boxplot not to plot outliers\n",
    "  geom_beeswarm(alpha = .2) +\n",
    "  labs(x = \"Systolic BP (mmHg)\", y = \"\")"
   ]
  },
  {
   "cell_type": "markdown",
   "metadata": {},
   "source": [
    "\n",
    "##### Layer order\n",
    "order is important (will change the order things are plotted)\n"
   ]
  },
  {
   "cell_type": "code",
   "execution_count": null,
   "metadata": {
    "Rmd_chunk_options": "beeswarm_boxplot",
    "autoscroll": false,
    "collapsed": true
   },
   "outputs": [],
   "source": [
    "ggplot(heart, aes(x = gender, y = BPXSAR)) +\n",
    "  geom_beeswarm(alpha = .2) +\n",
    "  geom_boxplot(outlier.shape = NA) +\n",
    "  labs(x = \"Systolic BP (mmHg)\", y = \"\")"
   ]
  },
  {
   "cell_type": "markdown",
   "metadata": {},
   "source": [
    "\n",
    "\n",
    "\n",
    "### Extra Challenge\n",
    "#### Violin plot\n",
    "\n",
    "If that was easy for you, give this a shot. Try and recreate the plots below using what you learned above.\n",
    "\n",
    "*Hint: We are using \"geom_violin\".*\n",
    "\n"
   ]
  },
  {
   "cell_type": "code",
   "execution_count": null,
   "metadata": {
    "Rmd_chunk_options": "violin, echo=FALSE, fig.show='asis', fig.height=3, fig.width=4",
    "autoscroll": false,
    "collapsed": true
   },
   "outputs": [],
   "source": [
    "ggplot(heart, aes(x = gender, y = BPXSAR)) +\n",
    "  geom_violin(alpha = .2) +\n",
    "  labs(x = \"Systolic BP (mmHg)\", y = \"\")"
   ]
  },
  {
   "cell_type": "markdown",
   "metadata": {},
   "source": [
    "\n",
    "Try adding some statistics to your plot. You can start with the mean and the median.\n"
   ]
  },
  {
   "cell_type": "code",
   "execution_count": null,
   "metadata": {
    "Rmd_chunk_options": "violin_stats, echo=FALSE, fig.show='asis', fig.height=3, fig.width=4",
    "autoscroll": false,
    "collapsed": true
   },
   "outputs": [],
   "source": [
    "ggplot(heart, aes(x = gender, y = BPXSAR)) +\n",
    "  geom_violin(alpha = .2) +\n",
    "  stat_summary(fun.y = \"mean\", geom = \"point\", colour = \"orange\") +\n",
    "  stat_summary(fun.y = \"median\", geom = \"point\", colour = \"blue\") +\n",
    "  labs(x = \"Systolic BP (mmHg)\", y = \"\")"
   ]
  },
  {
   "cell_type": "markdown",
   "metadata": {},
   "source": [
    "\n",
    "Try adding another geom layer.\n",
    "\n",
    "*Hint: Do you want to include your outlier points?*\n",
    "\n"
   ]
  },
  {
   "cell_type": "code",
   "execution_count": null,
   "metadata": {
    "Rmd_chunk_options": "violin_boxplot, echo=FALSE, fig.show='asis', fig.height=3, fig.width=4",
    "autoscroll": false,
    "collapsed": true
   },
   "outputs": [],
   "source": [
    "ggplot(heart, aes(x = gender, y = BPXSAR)) +\n",
    "  geom_violin(alpha = .2) +\n",
    "  geom_boxplot(width = .05) +\n",
    "  labs(x = \"Systolic BP (mmHg)\", y = \"\")"
   ]
  },
  {
   "cell_type": "markdown",
   "metadata": {},
   "source": [
    "\n",
    "# Bivariate Plots: Age & Systolic Blood Pressure\n",
    "\n",
    "Simple scatterplot\n"
   ]
  },
  {
   "cell_type": "code",
   "execution_count": null,
   "metadata": {
    "autoscroll": false,
    "collapsed": true
   },
   "outputs": [],
   "source": [
    "ggplot(heart, aes(x = RIDAGEYR, y = BPXSAR)) +\n",
    "  geom_point() +\n",
    "  labs(x = \"Age (years)\", y = \"Systolic BP (mmHg)\")"
   ]
  },
  {
   "cell_type": "markdown",
   "metadata": {},
   "source": [
    "\n",
    "If you have big n, try hexbin plot\n"
   ]
  },
  {
   "cell_type": "code",
   "execution_count": null,
   "metadata": {
    "autoscroll": false,
    "collapsed": true
   },
   "outputs": [],
   "source": [
    "ggplot(heart, aes(x = RIDAGEYR, y = BPXSAR)) +\n",
    "  geom_hex() +\n",
    "  labs(x = \"Age (years)\", y = \"Systolic BP (mmHg)\")"
   ]
  },
  {
   "cell_type": "markdown",
   "metadata": {},
   "source": [
    "\n",
    "Add linear regression line with SE\n"
   ]
  },
  {
   "cell_type": "code",
   "execution_count": null,
   "metadata": {
    "autoscroll": false,
    "collapsed": true
   },
   "outputs": [],
   "source": [
    "ggplot(heart, aes(x = RIDAGEYR, y = BPXSAR)) +\n",
    "  geom_point() +\n",
    "  geom_smooth(method = \"lm\") +\n",
    "  labs(x = \"Age (years)\", y = \"Systolic BP (mmHg)\")"
   ]
  },
  {
   "cell_type": "markdown",
   "metadata": {},
   "source": [
    "\n",
    "Default is loess line\n"
   ]
  },
  {
   "cell_type": "code",
   "execution_count": null,
   "metadata": {
    "autoscroll": false,
    "collapsed": true
   },
   "outputs": [],
   "source": [
    "ggplot(heart, aes(x = RIDAGEYR, y = BPXSAR)) +\n",
    "  geom_point() +\n",
    "  geom_smooth() +\n",
    "  labs(x = \"Age (years)\", y = \"Systolic BP (mmHg)\")"
   ]
  },
  {
   "cell_type": "markdown",
   "metadata": {},
   "source": [
    "\n",
    "Add splines\n"
   ]
  },
  {
   "cell_type": "code",
   "execution_count": null,
   "metadata": {
    "autoscroll": false,
    "collapsed": true
   },
   "outputs": [],
   "source": [
    "library(splines)\n",
    "library(MASS)\n",
    "ggplot(heart, aes(x = RIDAGEYR, y = BPXSAR)) +\n",
    "  geom_point() +\n",
    "  stat_smooth(method = \"lm\", formula = y ~ ns(x, 3)) +\n",
    "  labs(x = \"Age (years)\", y = \"Systolic BP (mmHg)\")"
   ]
  },
  {
   "cell_type": "markdown",
   "metadata": {},
   "source": [
    "\n",
    "# Multivariable Plots: Body Mass Index & Systolic BP, by gender and age\n",
    "\n",
    "Just copy this:\n"
   ]
  },
  {
   "cell_type": "code",
   "execution_count": null,
   "metadata": {
    "autoscroll": false,
    "collapsed": true
   },
   "outputs": [],
   "source": [
    "library(dplyr)\n",
    "heart2 <- heart %>%\n",
    "  mutate(age_cat = cut(RIDAGEYR,c(0,30,55,100)))"
   ]
  },
  {
   "cell_type": "markdown",
   "metadata": {},
   "source": [
    "\n",
    "Recreate theirs first\n",
    "\n"
   ]
  },
  {
   "cell_type": "code",
   "execution_count": null,
   "metadata": {
    "autoscroll": false,
    "collapsed": true
   },
   "outputs": [],
   "source": [
    "ggplot(heart2, aes(x = BMXBMI, y = BPXSAR)) +\n",
    "  geom_point() +\n",
    "  stat_smooth(aes(colour = gender), method = \"lm\") +\n",
    "  facet_wrap(~age_cat) +\n",
    "  labs(x = \"Body Mass Index\"~(kg/m^2), y = \"Systolic BP (mmHg)\")"
   ]
  },
  {
   "cell_type": "markdown",
   "metadata": {},
   "source": [
    "\n",
    "Try with facet grid, update labels\n",
    "\n"
   ]
  },
  {
   "cell_type": "code",
   "execution_count": null,
   "metadata": {
    "autoscroll": false,
    "collapsed": true
   },
   "outputs": [],
   "source": [
    "ggplot(heart2, aes(x = BMXBMI, y = BPXSAR)) +\n",
    "  geom_point() +\n",
    "  stat_smooth(aes(colour = gender), method = \"lm\") +\n",
    "  facet_grid(gender~age_cat) +\n",
    "  labs(x = \"Body Mass Index\"~(kg/m^2), y = \"Systolic BP (mmHg)\")"
   ]
  },
  {
   "cell_type": "markdown",
   "metadata": {},
   "source": [
    "\n",
    "Play with colors!\n"
   ]
  },
  {
   "cell_type": "code",
   "execution_count": null,
   "metadata": {
    "autoscroll": false,
    "collapsed": true
   },
   "outputs": [],
   "source": [
    "ggplot(heart2, aes(x = BMXBMI, y = BPXSAR, colour = gender)) +\n",
    "  geom_point(alpha = .5) +\n",
    "  stat_smooth(method = \"lm\") +\n",
    "  facet_grid(gender~age_cat) +\n",
    "  theme_minimal() +\n",
    "  labs(x = \"Body Mass Index\"~(kg/m^2), y = \"Systolic BP (mmHg)\") +\n",
    "  scale_color_manual(values = c(\"#B47CC7\", \"#D65F5F\"), guide = FALSE)"
   ]
  },
  {
   "cell_type": "code",
   "execution_count": null,
   "metadata": {
    "autoscroll": false,
    "collapsed": true
   },
   "outputs": [],
   "source": [
    "my_colors <- c(\"#C4AD66\", \"#77BEDB\")\n",
    "ggplot(heart2, aes(x = BMXBMI, y = BPXSAR, colour = gender)) +\n",
    "  geom_point(alpha = .5) +\n",
    "  stat_smooth(method = \"lm\") +\n",
    "  facet_grid(gender~age_cat) +\n",
    "  labs(x = \"Body Mass Index\"~(kg/m^2), y = \"Systolic BP (mmHg)\") +\n",
    "  scale_color_manual(values = my_colors, guide = FALSE)"
   ]
  },
  {
   "cell_type": "markdown",
   "metadata": {},
   "source": [
    "\n",
    "\n",
    "\n"
   ]
  }
 ],
 "metadata": {
  "Rmd_header": {
   "output": "html_document",
   "title": "Data Jamboree- ggplot2"
  },
  "kernelspec": {
   "display_name": "R",
   "language": "R",
   "name": "ir"
  },
  "language_info": {
   "codemirror_mode": "r",
   "file_extension": ".r",
   "mimetype": "text/x-r-source",
   "name": "R",
   "pygments_lexer": "r"
  }
 },
 "nbformat": 4,
 "nbformat_minor": 0
}
