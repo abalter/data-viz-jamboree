{
 "cells": [
  {
   "cell_type": "markdown",
   "metadata": {
    "run_control": {
     "marked": true
    }
   },
   "source": [
    "# Intro to Pandas DataFrame"
   ]
  },
  {
   "cell_type": "markdown",
   "metadata": {
    "run_control": {
     "marked": true
    }
   },
   "source": [
    "## Pandas\n",
    "* Powerful data analysis toolkit for python\n",
    "* Resembles R data.frame, data.table, and dplyr\n",
    "* Treats data in a relational way with named elements like columns\n",
    "* Can perform database like functions (selects, joins, groups, etc.)\n",
    "* Easy access to powerful statistical methods\n",
    "* Easy access to rich plots"
   ]
  },
  {
   "cell_type": "markdown",
   "metadata": {
    "run_control": {
     "marked": true
    }
   },
   "source": [
    "## Quick look at the data"
   ]
  },
  {
   "cell_type": "code",
   "execution_count": 1,
   "metadata": {
    "collapsed": false,
    "run_control": {
     "marked": true
    }
   },
   "outputs": [],
   "source": [
    "# Import packages\n",
    "import numpy as np\n",
    "import pandas as pd\n",
    "\n",
    "# Read in some data\n",
    "heart = pd.read_csv(\"http://faculty.washington.edu/kenrice/heartgraphs/nhaneslarge.csv\", sep=\",\", na_values=\".\")"
   ]
  },
  {
   "cell_type": "markdown",
   "metadata": {
    "run_control": {
     "marked": true
    }
   },
   "source": [
    "### What type of object is it?"
   ]
  },
  {
   "cell_type": "code",
   "execution_count": 2,
   "metadata": {
    "collapsed": false,
    "run_control": {
     "marked": true
    }
   },
   "outputs": [
    {
     "data": {
      "text/plain": [
       "pandas.core.frame.DataFrame"
      ]
     },
     "execution_count": 2,
     "metadata": {},
     "output_type": "execute_result"
    }
   ],
   "source": [
    "type(heart)"
   ]
  },
  {
   "cell_type": "markdown",
   "metadata": {
    "run_control": {
     "marked": true
    }
   },
   "source": [
    "### Look at the data\n",
    "#### First five rows"
   ]
  },
  {
   "cell_type": "code",
   "execution_count": 3,
   "metadata": {
    "collapsed": false,
    "run_control": {
     "marked": true
    }
   },
   "outputs": [
    {
     "data": {
      "text/html": [
       "<div>\n",
       "<style scoped>\n",
       "    .dataframe tbody tr th:only-of-type {\n",
       "        vertical-align: middle;\n",
       "    }\n",
       "\n",
       "    .dataframe tbody tr th {\n",
       "        vertical-align: top;\n",
       "    }\n",
       "\n",
       "    .dataframe thead th {\n",
       "        text-align: right;\n",
       "    }\n",
       "</style>\n",
       "<table border=\"1\" class=\"dataframe\">\n",
       "  <thead>\n",
       "    <tr style=\"text-align: right;\">\n",
       "      <th></th>\n",
       "      <th>BPXSAR</th>\n",
       "      <th>BPXDAR</th>\n",
       "      <th>BPXDI1</th>\n",
       "      <th>BPXDI2</th>\n",
       "      <th>race_ethc</th>\n",
       "      <th>gender</th>\n",
       "      <th>DR1TFOLA</th>\n",
       "      <th>RIAGENDR</th>\n",
       "      <th>BMXBMI</th>\n",
       "      <th>RIDAGEYR</th>\n",
       "    </tr>\n",
       "  </thead>\n",
       "  <tbody>\n",
       "    <tr>\n",
       "      <th>0</th>\n",
       "      <td>108.000000</td>\n",
       "      <td>56.000000</td>\n",
       "      <td>56.0</td>\n",
       "      <td>58.0</td>\n",
       "      <td>Other</td>\n",
       "      <td>Male</td>\n",
       "      <td>434</td>\n",
       "      <td>1</td>\n",
       "      <td>25.83</td>\n",
       "      <td>65</td>\n",
       "    </tr>\n",
       "    <tr>\n",
       "      <th>1</th>\n",
       "      <td>117.333333</td>\n",
       "      <td>60.000000</td>\n",
       "      <td>56.0</td>\n",
       "      <td>64.0</td>\n",
       "      <td>Hispanic</td>\n",
       "      <td>Male</td>\n",
       "      <td>241</td>\n",
       "      <td>1</td>\n",
       "      <td>25.73</td>\n",
       "      <td>74</td>\n",
       "    </tr>\n",
       "    <tr>\n",
       "      <th>2</th>\n",
       "      <td>120.000000</td>\n",
       "      <td>82.666667</td>\n",
       "      <td>80.0</td>\n",
       "      <td>86.0</td>\n",
       "      <td>White non-Hispanic</td>\n",
       "      <td>Male</td>\n",
       "      <td>380</td>\n",
       "      <td>1</td>\n",
       "      <td>24.49</td>\n",
       "      <td>54</td>\n",
       "    </tr>\n",
       "    <tr>\n",
       "      <th>3</th>\n",
       "      <td>88.000000</td>\n",
       "      <td>52.000000</td>\n",
       "      <td>52.0</td>\n",
       "      <td>NaN</td>\n",
       "      <td>White non-Hispanic</td>\n",
       "      <td>Female</td>\n",
       "      <td>152</td>\n",
       "      <td>2</td>\n",
       "      <td>20.76</td>\n",
       "      <td>9</td>\n",
       "    </tr>\n",
       "    <tr>\n",
       "      <th>4</th>\n",
       "      <td>150.666667</td>\n",
       "      <td>96.000000</td>\n",
       "      <td>100.0</td>\n",
       "      <td>94.0</td>\n",
       "      <td>Black non-Hispanic</td>\n",
       "      <td>Male</td>\n",
       "      <td>422</td>\n",
       "      <td>1</td>\n",
       "      <td>24.63</td>\n",
       "      <td>49</td>\n",
       "    </tr>\n",
       "  </tbody>\n",
       "</table>\n",
       "</div>"
      ],
      "text/plain": [
       "       BPXSAR     BPXDAR  BPXDI1  BPXDI2           race_ethc  gender  \\\n",
       "0  108.000000  56.000000    56.0    58.0               Other    Male   \n",
       "1  117.333333  60.000000    56.0    64.0            Hispanic    Male   \n",
       "2  120.000000  82.666667    80.0    86.0  White non-Hispanic    Male   \n",
       "3   88.000000  52.000000    52.0     NaN  White non-Hispanic  Female   \n",
       "4  150.666667  96.000000   100.0    94.0  Black non-Hispanic    Male   \n",
       "\n",
       "   DR1TFOLA  RIAGENDR  BMXBMI  RIDAGEYR  \n",
       "0       434         1   25.83        65  \n",
       "1       241         1   25.73        74  \n",
       "2       380         1   24.49        54  \n",
       "3       152         2   20.76         9  \n",
       "4       422         1   24.63        49  "
      ]
     },
     "execution_count": 3,
     "metadata": {},
     "output_type": "execute_result"
    }
   ],
   "source": [
    "# First 5 rows\n",
    "heart.head()"
   ]
  },
  {
   "cell_type": "markdown",
   "metadata": {
    "run_control": {
     "marked": true
    }
   },
   "source": [
    "#### Last three rows"
   ]
  },
  {
   "cell_type": "code",
   "execution_count": 4,
   "metadata": {
    "collapsed": false,
    "run_control": {
     "marked": true
    }
   },
   "outputs": [
    {
     "data": {
      "text/html": [
       "<div>\n",
       "<style scoped>\n",
       "    .dataframe tbody tr th:only-of-type {\n",
       "        vertical-align: middle;\n",
       "    }\n",
       "\n",
       "    .dataframe tbody tr th {\n",
       "        vertical-align: top;\n",
       "    }\n",
       "\n",
       "    .dataframe thead th {\n",
       "        text-align: right;\n",
       "    }\n",
       "</style>\n",
       "<table border=\"1\" class=\"dataframe\">\n",
       "  <thead>\n",
       "    <tr style=\"text-align: right;\">\n",
       "      <th></th>\n",
       "      <th>BPXSAR</th>\n",
       "      <th>BPXDAR</th>\n",
       "      <th>BPXDI1</th>\n",
       "      <th>BPXDI2</th>\n",
       "      <th>race_ethc</th>\n",
       "      <th>gender</th>\n",
       "      <th>DR1TFOLA</th>\n",
       "      <th>RIAGENDR</th>\n",
       "      <th>BMXBMI</th>\n",
       "      <th>RIDAGEYR</th>\n",
       "    </tr>\n",
       "  </thead>\n",
       "  <tbody>\n",
       "    <tr>\n",
       "      <th>997</th>\n",
       "      <td>144.0</td>\n",
       "      <td>70.0</td>\n",
       "      <td>70.0</td>\n",
       "      <td>NaN</td>\n",
       "      <td>White non-Hispanic</td>\n",
       "      <td>Female</td>\n",
       "      <td>195</td>\n",
       "      <td>2</td>\n",
       "      <td>31.44</td>\n",
       "      <td>85</td>\n",
       "    </tr>\n",
       "    <tr>\n",
       "      <th>998</th>\n",
       "      <td>120.0</td>\n",
       "      <td>80.0</td>\n",
       "      <td>84.0</td>\n",
       "      <td>80.0</td>\n",
       "      <td>White non-Hispanic</td>\n",
       "      <td>Male</td>\n",
       "      <td>624</td>\n",
       "      <td>1</td>\n",
       "      <td>28.23</td>\n",
       "      <td>34</td>\n",
       "    </tr>\n",
       "    <tr>\n",
       "      <th>999</th>\n",
       "      <td>134.0</td>\n",
       "      <td>88.0</td>\n",
       "      <td>94.0</td>\n",
       "      <td>88.0</td>\n",
       "      <td>White non-Hispanic</td>\n",
       "      <td>Male</td>\n",
       "      <td>753</td>\n",
       "      <td>1</td>\n",
       "      <td>22.21</td>\n",
       "      <td>50</td>\n",
       "    </tr>\n",
       "  </tbody>\n",
       "</table>\n",
       "</div>"
      ],
      "text/plain": [
       "     BPXSAR  BPXDAR  BPXDI1  BPXDI2           race_ethc  gender  DR1TFOLA  \\\n",
       "997   144.0    70.0    70.0     NaN  White non-Hispanic  Female       195   \n",
       "998   120.0    80.0    84.0    80.0  White non-Hispanic    Male       624   \n",
       "999   134.0    88.0    94.0    88.0  White non-Hispanic    Male       753   \n",
       "\n",
       "     RIAGENDR  BMXBMI  RIDAGEYR  \n",
       "997         2   31.44        85  \n",
       "998         1   28.23        34  \n",
       "999         1   22.21        50  "
      ]
     },
     "execution_count": 4,
     "metadata": {},
     "output_type": "execute_result"
    }
   ],
   "source": [
    "# Last 3 rows\n",
    "heart.tail(3)"
   ]
  },
  {
   "cell_type": "markdown",
   "metadata": {},
   "source": [
    "#### Just the columns"
   ]
  },
  {
   "cell_type": "code",
   "execution_count": 5,
   "metadata": {
    "collapsed": false
   },
   "outputs": [
    {
     "data": {
      "text/plain": [
       "Index(['BPXSAR', 'BPXDAR', 'BPXDI1', 'BPXDI2', 'race_ethc', 'gender',\n",
       "       'DR1TFOLA', 'RIAGENDR', 'BMXBMI', 'RIDAGEYR'],\n",
       "      dtype='object')"
      ]
     },
     "execution_count": 5,
     "metadata": {},
     "output_type": "execute_result"
    }
   ],
   "source": [
    "heart.columns"
   ]
  },
  {
   "cell_type": "markdown",
   "metadata": {
    "run_control": {
     "marked": true
    }
   },
   "source": [
    "#### Object-oriented: each operation returns a data.frame"
   ]
  },
  {
   "cell_type": "code",
   "execution_count": 6,
   "metadata": {
    "collapsed": false,
    "run_control": {
     "marked": true
    }
   },
   "outputs": [
    {
     "data": {
      "text/html": [
       "<div>\n",
       "<style scoped>\n",
       "    .dataframe tbody tr th:only-of-type {\n",
       "        vertical-align: middle;\n",
       "    }\n",
       "\n",
       "    .dataframe tbody tr th {\n",
       "        vertical-align: top;\n",
       "    }\n",
       "\n",
       "    .dataframe thead th {\n",
       "        text-align: right;\n",
       "    }\n",
       "</style>\n",
       "<table border=\"1\" class=\"dataframe\">\n",
       "  <thead>\n",
       "    <tr style=\"text-align: right;\">\n",
       "      <th></th>\n",
       "      <th>BPXSAR</th>\n",
       "      <th>BPXDAR</th>\n",
       "      <th>BPXDI1</th>\n",
       "      <th>BPXDI2</th>\n",
       "      <th>race_ethc</th>\n",
       "      <th>gender</th>\n",
       "      <th>DR1TFOLA</th>\n",
       "      <th>RIAGENDR</th>\n",
       "      <th>BMXBMI</th>\n",
       "      <th>RIDAGEYR</th>\n",
       "    </tr>\n",
       "  </thead>\n",
       "  <tbody>\n",
       "    <tr>\n",
       "      <th>5</th>\n",
       "      <td>99.000000</td>\n",
       "      <td>62.0</td>\n",
       "      <td>66.0</td>\n",
       "      <td>62.0</td>\n",
       "      <td>White non-Hispanic</td>\n",
       "      <td>Male</td>\n",
       "      <td>319</td>\n",
       "      <td>1</td>\n",
       "      <td>21.35</td>\n",
       "      <td>69</td>\n",
       "    </tr>\n",
       "    <tr>\n",
       "      <th>6</th>\n",
       "      <td>107.000000</td>\n",
       "      <td>57.0</td>\n",
       "      <td>54.0</td>\n",
       "      <td>NaN</td>\n",
       "      <td>White non-Hispanic</td>\n",
       "      <td>Female</td>\n",
       "      <td>1072</td>\n",
       "      <td>2</td>\n",
       "      <td>24.20</td>\n",
       "      <td>25</td>\n",
       "    </tr>\n",
       "    <tr>\n",
       "      <th>7</th>\n",
       "      <td>114.666667</td>\n",
       "      <td>58.0</td>\n",
       "      <td>58.0</td>\n",
       "      <td>60.0</td>\n",
       "      <td>White non-Hispanic</td>\n",
       "      <td>Female</td>\n",
       "      <td>821</td>\n",
       "      <td>2</td>\n",
       "      <td>20.81</td>\n",
       "      <td>29</td>\n",
       "    </tr>\n",
       "    <tr>\n",
       "      <th>8</th>\n",
       "      <td>104.666667</td>\n",
       "      <td>72.0</td>\n",
       "      <td>70.0</td>\n",
       "      <td>70.0</td>\n",
       "      <td>White non-Hispanic</td>\n",
       "      <td>Female</td>\n",
       "      <td>435</td>\n",
       "      <td>2</td>\n",
       "      <td>20.06</td>\n",
       "      <td>19</td>\n",
       "    </tr>\n",
       "    <tr>\n",
       "      <th>9</th>\n",
       "      <td>101.000000</td>\n",
       "      <td>58.0</td>\n",
       "      <td>66.0</td>\n",
       "      <td>56.0</td>\n",
       "      <td>White non-Hispanic</td>\n",
       "      <td>Female</td>\n",
       "      <td>231</td>\n",
       "      <td>2</td>\n",
       "      <td>23.83</td>\n",
       "      <td>13</td>\n",
       "    </tr>\n",
       "  </tbody>\n",
       "</table>\n",
       "</div>"
      ],
      "text/plain": [
       "       BPXSAR  BPXDAR  BPXDI1  BPXDI2           race_ethc  gender  DR1TFOLA  \\\n",
       "5   99.000000    62.0    66.0    62.0  White non-Hispanic    Male       319   \n",
       "6  107.000000    57.0    54.0     NaN  White non-Hispanic  Female      1072   \n",
       "7  114.666667    58.0    58.0    60.0  White non-Hispanic  Female       821   \n",
       "8  104.666667    72.0    70.0    70.0  White non-Hispanic  Female       435   \n",
       "9  101.000000    58.0    66.0    56.0  White non-Hispanic  Female       231   \n",
       "\n",
       "   RIAGENDR  BMXBMI  RIDAGEYR  \n",
       "5         1   21.35        69  \n",
       "6         2   24.20        25  \n",
       "7         2   20.81        29  \n",
       "8         2   20.06        19  \n",
       "9         2   23.83        13  "
      ]
     },
     "execution_count": 6,
     "metadata": {},
     "output_type": "execute_result"
    }
   ],
   "source": [
    "heart.head(10).tail(5)"
   ]
  },
  {
   "cell_type": "markdown",
   "metadata": {
    "run_control": {
     "marked": true
    }
   },
   "source": [
    "## Summary statistics"
   ]
  },
  {
   "cell_type": "code",
   "execution_count": 7,
   "metadata": {
    "collapsed": false,
    "run_control": {
     "marked": true
    }
   },
   "outputs": [
    {
     "data": {
      "text/html": [
       "<div>\n",
       "<style scoped>\n",
       "    .dataframe tbody tr th:only-of-type {\n",
       "        vertical-align: middle;\n",
       "    }\n",
       "\n",
       "    .dataframe tbody tr th {\n",
       "        vertical-align: top;\n",
       "    }\n",
       "\n",
       "    .dataframe thead th {\n",
       "        text-align: right;\n",
       "    }\n",
       "</style>\n",
       "<table border=\"1\" class=\"dataframe\">\n",
       "  <thead>\n",
       "    <tr style=\"text-align: right;\">\n",
       "      <th></th>\n",
       "      <th>BPXSAR</th>\n",
       "      <th>BPXDAR</th>\n",
       "      <th>BPXDI1</th>\n",
       "      <th>BPXDI2</th>\n",
       "      <th>DR1TFOLA</th>\n",
       "      <th>RIAGENDR</th>\n",
       "      <th>BMXBMI</th>\n",
       "      <th>RIDAGEYR</th>\n",
       "    </tr>\n",
       "  </thead>\n",
       "  <tbody>\n",
       "    <tr>\n",
       "      <th>count</th>\n",
       "      <td>1000.000000</td>\n",
       "      <td>1000.000000</td>\n",
       "      <td>905.000000</td>\n",
       "      <td>832.000000</td>\n",
       "      <td>1000.0000</td>\n",
       "      <td>1000.00000</td>\n",
       "      <td>991.000000</td>\n",
       "      <td>1000.000000</td>\n",
       "    </tr>\n",
       "    <tr>\n",
       "      <th>mean</th>\n",
       "      <td>119.932667</td>\n",
       "      <td>68.021000</td>\n",
       "      <td>68.333702</td>\n",
       "      <td>68.442308</td>\n",
       "      <td>409.2650</td>\n",
       "      <td>1.50000</td>\n",
       "      <td>27.077619</td>\n",
       "      <td>40.109000</td>\n",
       "    </tr>\n",
       "    <tr>\n",
       "      <th>std</th>\n",
       "      <td>17.996055</td>\n",
       "      <td>13.951905</td>\n",
       "      <td>14.371156</td>\n",
       "      <td>14.041936</td>\n",
       "      <td>242.0019</td>\n",
       "      <td>0.50025</td>\n",
       "      <td>6.552778</td>\n",
       "      <td>20.379363</td>\n",
       "    </tr>\n",
       "    <tr>\n",
       "      <th>min</th>\n",
       "      <td>82.000000</td>\n",
       "      <td>0.000000</td>\n",
       "      <td>0.000000</td>\n",
       "      <td>0.000000</td>\n",
       "      <td>0.0000</td>\n",
       "      <td>1.00000</td>\n",
       "      <td>14.240000</td>\n",
       "      <td>8.000000</td>\n",
       "    </tr>\n",
       "    <tr>\n",
       "      <th>25%</th>\n",
       "      <td>108.000000</td>\n",
       "      <td>60.000000</td>\n",
       "      <td>60.000000</td>\n",
       "      <td>60.000000</td>\n",
       "      <td>250.0000</td>\n",
       "      <td>1.00000</td>\n",
       "      <td>22.520000</td>\n",
       "      <td>21.750000</td>\n",
       "    </tr>\n",
       "    <tr>\n",
       "      <th>50%</th>\n",
       "      <td>117.333333</td>\n",
       "      <td>69.000000</td>\n",
       "      <td>68.000000</td>\n",
       "      <td>70.000000</td>\n",
       "      <td>354.0000</td>\n",
       "      <td>1.50000</td>\n",
       "      <td>26.550000</td>\n",
       "      <td>40.000000</td>\n",
       "    </tr>\n",
       "    <tr>\n",
       "      <th>75%</th>\n",
       "      <td>130.000000</td>\n",
       "      <td>77.000000</td>\n",
       "      <td>78.000000</td>\n",
       "      <td>78.000000</td>\n",
       "      <td>492.2500</td>\n",
       "      <td>2.00000</td>\n",
       "      <td>30.860000</td>\n",
       "      <td>54.000000</td>\n",
       "    </tr>\n",
       "    <tr>\n",
       "      <th>max</th>\n",
       "      <td>216.000000</td>\n",
       "      <td>112.000000</td>\n",
       "      <td>110.000000</td>\n",
       "      <td>114.000000</td>\n",
       "      <td>1906.0000</td>\n",
       "      <td>2.00000</td>\n",
       "      <td>57.410000</td>\n",
       "      <td>85.000000</td>\n",
       "    </tr>\n",
       "  </tbody>\n",
       "</table>\n",
       "</div>"
      ],
      "text/plain": [
       "            BPXSAR       BPXDAR      BPXDI1      BPXDI2   DR1TFOLA  \\\n",
       "count  1000.000000  1000.000000  905.000000  832.000000  1000.0000   \n",
       "mean    119.932667    68.021000   68.333702   68.442308   409.2650   \n",
       "std      17.996055    13.951905   14.371156   14.041936   242.0019   \n",
       "min      82.000000     0.000000    0.000000    0.000000     0.0000   \n",
       "25%     108.000000    60.000000   60.000000   60.000000   250.0000   \n",
       "50%     117.333333    69.000000   68.000000   70.000000   354.0000   \n",
       "75%     130.000000    77.000000   78.000000   78.000000   492.2500   \n",
       "max     216.000000   112.000000  110.000000  114.000000  1906.0000   \n",
       "\n",
       "         RIAGENDR      BMXBMI     RIDAGEYR  \n",
       "count  1000.00000  991.000000  1000.000000  \n",
       "mean      1.50000   27.077619    40.109000  \n",
       "std       0.50025    6.552778    20.379363  \n",
       "min       1.00000   14.240000     8.000000  \n",
       "25%       1.00000   22.520000    21.750000  \n",
       "50%       1.50000   26.550000    40.000000  \n",
       "75%       2.00000   30.860000    54.000000  \n",
       "max       2.00000   57.410000    85.000000  "
      ]
     },
     "execution_count": 7,
     "metadata": {},
     "output_type": "execute_result"
    }
   ],
   "source": [
    "heart.describe()"
   ]
  },
  {
   "cell_type": "markdown",
   "metadata": {},
   "source": [
    "### Aggregates"
   ]
  },
  {
   "cell_type": "code",
   "execution_count": 8,
   "metadata": {
    "collapsed": false,
    "run_control": {
     "marked": true
    }
   },
   "outputs": [
    {
     "data": {
      "text/html": [
       "<div>\n",
       "<style scoped>\n",
       "    .dataframe tbody tr th:only-of-type {\n",
       "        vertical-align: middle;\n",
       "    }\n",
       "\n",
       "    .dataframe tbody tr th {\n",
       "        vertical-align: top;\n",
       "    }\n",
       "\n",
       "    .dataframe thead tr th {\n",
       "        text-align: left;\n",
       "    }\n",
       "\n",
       "    .dataframe thead tr:last-of-type th {\n",
       "        text-align: right;\n",
       "    }\n",
       "</style>\n",
       "<table border=\"1\" class=\"dataframe\">\n",
       "  <thead>\n",
       "    <tr>\n",
       "      <th></th>\n",
       "      <th colspan=\"2\" halign=\"left\">RIDAGEYR</th>\n",
       "    </tr>\n",
       "    <tr>\n",
       "      <th></th>\n",
       "      <th>size</th>\n",
       "      <th>median</th>\n",
       "    </tr>\n",
       "    <tr>\n",
       "      <th>race_ethc</th>\n",
       "      <th></th>\n",
       "      <th></th>\n",
       "    </tr>\n",
       "  </thead>\n",
       "  <tbody>\n",
       "    <tr>\n",
       "      <th>Black non-Hispanic</th>\n",
       "      <td>102</td>\n",
       "      <td>33.0</td>\n",
       "    </tr>\n",
       "    <tr>\n",
       "      <th>Hispanic</th>\n",
       "      <td>114</td>\n",
       "      <td>34.5</td>\n",
       "    </tr>\n",
       "    <tr>\n",
       "      <th>Other</th>\n",
       "      <td>68</td>\n",
       "      <td>37.0</td>\n",
       "    </tr>\n",
       "    <tr>\n",
       "      <th>White non-Hispanic</th>\n",
       "      <td>716</td>\n",
       "      <td>43.0</td>\n",
       "    </tr>\n",
       "  </tbody>\n",
       "</table>\n",
       "</div>"
      ],
      "text/plain": [
       "                   RIDAGEYR       \n",
       "                       size median\n",
       "race_ethc                         \n",
       "Black non-Hispanic      102   33.0\n",
       "Hispanic                114   34.5\n",
       "Other                    68   37.0\n",
       "White non-Hispanic      716   43.0"
      ]
     },
     "execution_count": 8,
     "metadata": {},
     "output_type": "execute_result"
    }
   ],
   "source": [
    "heart.groupby('race_ethc').agg({'RIDAGEYR': [np.size, np.median]})"
   ]
  },
  {
   "cell_type": "markdown",
   "metadata": {
    "run_control": {
     "marked": true
    }
   },
   "source": [
    "## Selecting data (slicing)"
   ]
  },
  {
   "cell_type": "code",
   "execution_count": 9,
   "metadata": {
    "collapsed": false,
    "run_control": {
     "marked": true
    }
   },
   "outputs": [
    {
     "data": {
      "text/html": [
       "<div>\n",
       "<style scoped>\n",
       "    .dataframe tbody tr th:only-of-type {\n",
       "        vertical-align: middle;\n",
       "    }\n",
       "\n",
       "    .dataframe tbody tr th {\n",
       "        vertical-align: top;\n",
       "    }\n",
       "\n",
       "    .dataframe thead th {\n",
       "        text-align: right;\n",
       "    }\n",
       "</style>\n",
       "<table border=\"1\" class=\"dataframe\">\n",
       "  <thead>\n",
       "    <tr style=\"text-align: right;\">\n",
       "      <th></th>\n",
       "      <th>BPXSAR</th>\n",
       "      <th>BPXDAR</th>\n",
       "      <th>BPXDI1</th>\n",
       "      <th>BPXDI2</th>\n",
       "      <th>race_ethc</th>\n",
       "      <th>gender</th>\n",
       "      <th>DR1TFOLA</th>\n",
       "      <th>RIAGENDR</th>\n",
       "      <th>BMXBMI</th>\n",
       "      <th>RIDAGEYR</th>\n",
       "    </tr>\n",
       "  </thead>\n",
       "  <tbody>\n",
       "    <tr>\n",
       "      <th>5</th>\n",
       "      <td>99.000000</td>\n",
       "      <td>62.0</td>\n",
       "      <td>66.0</td>\n",
       "      <td>62.0</td>\n",
       "      <td>White non-Hispanic</td>\n",
       "      <td>Male</td>\n",
       "      <td>319</td>\n",
       "      <td>1</td>\n",
       "      <td>21.35</td>\n",
       "      <td>69</td>\n",
       "    </tr>\n",
       "    <tr>\n",
       "      <th>6</th>\n",
       "      <td>107.000000</td>\n",
       "      <td>57.0</td>\n",
       "      <td>54.0</td>\n",
       "      <td>NaN</td>\n",
       "      <td>White non-Hispanic</td>\n",
       "      <td>Female</td>\n",
       "      <td>1072</td>\n",
       "      <td>2</td>\n",
       "      <td>24.20</td>\n",
       "      <td>25</td>\n",
       "    </tr>\n",
       "    <tr>\n",
       "      <th>7</th>\n",
       "      <td>114.666667</td>\n",
       "      <td>58.0</td>\n",
       "      <td>58.0</td>\n",
       "      <td>60.0</td>\n",
       "      <td>White non-Hispanic</td>\n",
       "      <td>Female</td>\n",
       "      <td>821</td>\n",
       "      <td>2</td>\n",
       "      <td>20.81</td>\n",
       "      <td>29</td>\n",
       "    </tr>\n",
       "    <tr>\n",
       "      <th>8</th>\n",
       "      <td>104.666667</td>\n",
       "      <td>72.0</td>\n",
       "      <td>70.0</td>\n",
       "      <td>70.0</td>\n",
       "      <td>White non-Hispanic</td>\n",
       "      <td>Female</td>\n",
       "      <td>435</td>\n",
       "      <td>2</td>\n",
       "      <td>20.06</td>\n",
       "      <td>19</td>\n",
       "    </tr>\n",
       "    <tr>\n",
       "      <th>9</th>\n",
       "      <td>101.000000</td>\n",
       "      <td>58.0</td>\n",
       "      <td>66.0</td>\n",
       "      <td>56.0</td>\n",
       "      <td>White non-Hispanic</td>\n",
       "      <td>Female</td>\n",
       "      <td>231</td>\n",
       "      <td>2</td>\n",
       "      <td>23.83</td>\n",
       "      <td>13</td>\n",
       "    </tr>\n",
       "  </tbody>\n",
       "</table>\n",
       "</div>"
      ],
      "text/plain": [
       "       BPXSAR  BPXDAR  BPXDI1  BPXDI2           race_ethc  gender  DR1TFOLA  \\\n",
       "5   99.000000    62.0    66.0    62.0  White non-Hispanic    Male       319   \n",
       "6  107.000000    57.0    54.0     NaN  White non-Hispanic  Female      1072   \n",
       "7  114.666667    58.0    58.0    60.0  White non-Hispanic  Female       821   \n",
       "8  104.666667    72.0    70.0    70.0  White non-Hispanic  Female       435   \n",
       "9  101.000000    58.0    66.0    56.0  White non-Hispanic  Female       231   \n",
       "\n",
       "   RIAGENDR  BMXBMI  RIDAGEYR  \n",
       "5         1   21.35        69  \n",
       "6         2   24.20        25  \n",
       "7         2   20.81        29  \n",
       "8         2   20.06        19  \n",
       "9         2   23.83        13  "
      ]
     },
     "execution_count": 9,
     "metadata": {},
     "output_type": "execute_result"
    }
   ],
   "source": [
    "# Rows 5...10\n",
    "heart[5:10]"
   ]
  },
  {
   "cell_type": "code",
   "execution_count": 10,
   "metadata": {
    "collapsed": false,
    "run_control": {
     "marked": true
    }
   },
   "outputs": [
    {
     "data": {
      "text/plain": [
       "0    56.000000\n",
       "1    60.000000\n",
       "2    82.666667\n",
       "3    52.000000\n",
       "4    96.000000\n",
       "Name: BPXDAR, dtype: float64"
      ]
     },
     "execution_count": 10,
     "metadata": {},
     "output_type": "execute_result"
    }
   ],
   "source": [
    "# Single column\n",
    "heart['BPXDAR'].head()"
   ]
  },
  {
   "cell_type": "code",
   "execution_count": 11,
   "metadata": {
    "collapsed": false
   },
   "outputs": [
    {
     "data": {
      "text/html": [
       "<div>\n",
       "<style scoped>\n",
       "    .dataframe tbody tr th:only-of-type {\n",
       "        vertical-align: middle;\n",
       "    }\n",
       "\n",
       "    .dataframe tbody tr th {\n",
       "        vertical-align: top;\n",
       "    }\n",
       "\n",
       "    .dataframe thead th {\n",
       "        text-align: right;\n",
       "    }\n",
       "</style>\n",
       "<table border=\"1\" class=\"dataframe\">\n",
       "  <thead>\n",
       "    <tr style=\"text-align: right;\">\n",
       "      <th></th>\n",
       "      <th>BPXDAR</th>\n",
       "      <th>race_ethc</th>\n",
       "      <th>gender</th>\n",
       "    </tr>\n",
       "  </thead>\n",
       "  <tbody>\n",
       "    <tr>\n",
       "      <th>0</th>\n",
       "      <td>56.000000</td>\n",
       "      <td>Other</td>\n",
       "      <td>Male</td>\n",
       "    </tr>\n",
       "    <tr>\n",
       "      <th>1</th>\n",
       "      <td>60.000000</td>\n",
       "      <td>Hispanic</td>\n",
       "      <td>Male</td>\n",
       "    </tr>\n",
       "    <tr>\n",
       "      <th>2</th>\n",
       "      <td>82.666667</td>\n",
       "      <td>White non-Hispanic</td>\n",
       "      <td>Male</td>\n",
       "    </tr>\n",
       "    <tr>\n",
       "      <th>3</th>\n",
       "      <td>52.000000</td>\n",
       "      <td>White non-Hispanic</td>\n",
       "      <td>Female</td>\n",
       "    </tr>\n",
       "    <tr>\n",
       "      <th>4</th>\n",
       "      <td>96.000000</td>\n",
       "      <td>Black non-Hispanic</td>\n",
       "      <td>Male</td>\n",
       "    </tr>\n",
       "  </tbody>\n",
       "</table>\n",
       "</div>"
      ],
      "text/plain": [
       "      BPXDAR           race_ethc  gender\n",
       "0  56.000000               Other    Male\n",
       "1  60.000000            Hispanic    Male\n",
       "2  82.666667  White non-Hispanic    Male\n",
       "3  52.000000  White non-Hispanic  Female\n",
       "4  96.000000  Black non-Hispanic    Male"
      ]
     },
     "execution_count": 11,
     "metadata": {},
     "output_type": "execute_result"
    }
   ],
   "source": [
    "# Multiple columns\n",
    "heart[['BPXDAR','race_ethc','gender']].head()"
   ]
  },
  {
   "cell_type": "code",
   "execution_count": 12,
   "metadata": {
    "collapsed": false
   },
   "outputs": [
    {
     "data": {
      "text/html": [
       "<div>\n",
       "<style scoped>\n",
       "    .dataframe tbody tr th:only-of-type {\n",
       "        vertical-align: middle;\n",
       "    }\n",
       "\n",
       "    .dataframe tbody tr th {\n",
       "        vertical-align: top;\n",
       "    }\n",
       "\n",
       "    .dataframe thead th {\n",
       "        text-align: right;\n",
       "    }\n",
       "</style>\n",
       "<table border=\"1\" class=\"dataframe\">\n",
       "  <thead>\n",
       "    <tr style=\"text-align: right;\">\n",
       "      <th></th>\n",
       "      <th>BPXDAR</th>\n",
       "      <th>race_ethc</th>\n",
       "      <th>gender</th>\n",
       "    </tr>\n",
       "  </thead>\n",
       "  <tbody>\n",
       "    <tr>\n",
       "      <th>20</th>\n",
       "      <td>82.000000</td>\n",
       "      <td>Black non-Hispanic</td>\n",
       "      <td>Female</td>\n",
       "    </tr>\n",
       "    <tr>\n",
       "      <th>21</th>\n",
       "      <td>73.000000</td>\n",
       "      <td>White non-Hispanic</td>\n",
       "      <td>Male</td>\n",
       "    </tr>\n",
       "    <tr>\n",
       "      <th>22</th>\n",
       "      <td>86.000000</td>\n",
       "      <td>White non-Hispanic</td>\n",
       "      <td>Female</td>\n",
       "    </tr>\n",
       "    <tr>\n",
       "      <th>23</th>\n",
       "      <td>69.333333</td>\n",
       "      <td>White non-Hispanic</td>\n",
       "      <td>Male</td>\n",
       "    </tr>\n",
       "    <tr>\n",
       "      <th>24</th>\n",
       "      <td>87.333333</td>\n",
       "      <td>Hispanic</td>\n",
       "      <td>Male</td>\n",
       "    </tr>\n",
       "    <tr>\n",
       "      <th>25</th>\n",
       "      <td>52.000000</td>\n",
       "      <td>White non-Hispanic</td>\n",
       "      <td>Male</td>\n",
       "    </tr>\n",
       "    <tr>\n",
       "      <th>26</th>\n",
       "      <td>74.000000</td>\n",
       "      <td>Other</td>\n",
       "      <td>Female</td>\n",
       "    </tr>\n",
       "    <tr>\n",
       "      <th>27</th>\n",
       "      <td>43.000000</td>\n",
       "      <td>White non-Hispanic</td>\n",
       "      <td>Male</td>\n",
       "    </tr>\n",
       "    <tr>\n",
       "      <th>28</th>\n",
       "      <td>88.000000</td>\n",
       "      <td>White non-Hispanic</td>\n",
       "      <td>Female</td>\n",
       "    </tr>\n",
       "    <tr>\n",
       "      <th>29</th>\n",
       "      <td>54.000000</td>\n",
       "      <td>White non-Hispanic</td>\n",
       "      <td>Male</td>\n",
       "    </tr>\n",
       "    <tr>\n",
       "      <th>30</th>\n",
       "      <td>78.000000</td>\n",
       "      <td>Other</td>\n",
       "      <td>Male</td>\n",
       "    </tr>\n",
       "  </tbody>\n",
       "</table>\n",
       "</div>"
      ],
      "text/plain": [
       "       BPXDAR           race_ethc  gender\n",
       "20  82.000000  Black non-Hispanic  Female\n",
       "21  73.000000  White non-Hispanic    Male\n",
       "22  86.000000  White non-Hispanic  Female\n",
       "23  69.333333  White non-Hispanic    Male\n",
       "24  87.333333            Hispanic    Male\n",
       "25  52.000000  White non-Hispanic    Male\n",
       "26  74.000000               Other  Female\n",
       "27  43.000000  White non-Hispanic    Male\n",
       "28  88.000000  White non-Hispanic  Female\n",
       "29  54.000000  White non-Hispanic    Male\n",
       "30  78.000000               Other    Male"
      ]
     },
     "execution_count": 12,
     "metadata": {},
     "output_type": "execute_result"
    }
   ],
   "source": [
    "# Row indices and columns\n",
    "heart.loc[20:30,['BPXDAR','race_ethc','gender']]"
   ]
  },
  {
   "cell_type": "code",
   "execution_count": 13,
   "metadata": {
    "collapsed": false
   },
   "outputs": [
    {
     "data": {
      "text/html": [
       "<div>\n",
       "<style scoped>\n",
       "    .dataframe tbody tr th:only-of-type {\n",
       "        vertical-align: middle;\n",
       "    }\n",
       "\n",
       "    .dataframe tbody tr th {\n",
       "        vertical-align: top;\n",
       "    }\n",
       "\n",
       "    .dataframe thead th {\n",
       "        text-align: right;\n",
       "    }\n",
       "</style>\n",
       "<table border=\"1\" class=\"dataframe\">\n",
       "  <thead>\n",
       "    <tr style=\"text-align: right;\">\n",
       "      <th></th>\n",
       "      <th>BPXSAR</th>\n",
       "      <th>BPXDAR</th>\n",
       "      <th>BPXDI1</th>\n",
       "      <th>BPXDI2</th>\n",
       "      <th>race_ethc</th>\n",
       "      <th>gender</th>\n",
       "      <th>DR1TFOLA</th>\n",
       "      <th>RIAGENDR</th>\n",
       "      <th>BMXBMI</th>\n",
       "      <th>RIDAGEYR</th>\n",
       "    </tr>\n",
       "  </thead>\n",
       "  <tbody>\n",
       "    <tr>\n",
       "      <th>0</th>\n",
       "      <td>108.000000</td>\n",
       "      <td>56.000000</td>\n",
       "      <td>56.0</td>\n",
       "      <td>58.0</td>\n",
       "      <td>Other</td>\n",
       "      <td>Male</td>\n",
       "      <td>434</td>\n",
       "      <td>1</td>\n",
       "      <td>25.83</td>\n",
       "      <td>65</td>\n",
       "    </tr>\n",
       "    <tr>\n",
       "      <th>2</th>\n",
       "      <td>120.000000</td>\n",
       "      <td>82.666667</td>\n",
       "      <td>80.0</td>\n",
       "      <td>86.0</td>\n",
       "      <td>White non-Hispanic</td>\n",
       "      <td>Male</td>\n",
       "      <td>380</td>\n",
       "      <td>1</td>\n",
       "      <td>24.49</td>\n",
       "      <td>54</td>\n",
       "    </tr>\n",
       "    <tr>\n",
       "      <th>4</th>\n",
       "      <td>150.666667</td>\n",
       "      <td>96.000000</td>\n",
       "      <td>100.0</td>\n",
       "      <td>94.0</td>\n",
       "      <td>Black non-Hispanic</td>\n",
       "      <td>Male</td>\n",
       "      <td>422</td>\n",
       "      <td>1</td>\n",
       "      <td>24.63</td>\n",
       "      <td>49</td>\n",
       "    </tr>\n",
       "    <tr>\n",
       "      <th>5</th>\n",
       "      <td>99.000000</td>\n",
       "      <td>62.000000</td>\n",
       "      <td>66.0</td>\n",
       "      <td>62.0</td>\n",
       "      <td>White non-Hispanic</td>\n",
       "      <td>Male</td>\n",
       "      <td>319</td>\n",
       "      <td>1</td>\n",
       "      <td>21.35</td>\n",
       "      <td>69</td>\n",
       "    </tr>\n",
       "    <tr>\n",
       "      <th>10</th>\n",
       "      <td>136.000000</td>\n",
       "      <td>82.000000</td>\n",
       "      <td>NaN</td>\n",
       "      <td>80.0</td>\n",
       "      <td>White non-Hispanic</td>\n",
       "      <td>Male</td>\n",
       "      <td>498</td>\n",
       "      <td>1</td>\n",
       "      <td>22.27</td>\n",
       "      <td>31</td>\n",
       "    </tr>\n",
       "    <tr>\n",
       "      <th>11</th>\n",
       "      <td>144.000000</td>\n",
       "      <td>90.000000</td>\n",
       "      <td>90.0</td>\n",
       "      <td>NaN</td>\n",
       "      <td>White non-Hispanic</td>\n",
       "      <td>Male</td>\n",
       "      <td>433</td>\n",
       "      <td>1</td>\n",
       "      <td>45.98</td>\n",
       "      <td>54</td>\n",
       "    </tr>\n",
       "    <tr>\n",
       "      <th>15</th>\n",
       "      <td>109.333333</td>\n",
       "      <td>73.333333</td>\n",
       "      <td>72.0</td>\n",
       "      <td>74.0</td>\n",
       "      <td>Black non-Hispanic</td>\n",
       "      <td>Male</td>\n",
       "      <td>703</td>\n",
       "      <td>1</td>\n",
       "      <td>18.70</td>\n",
       "      <td>16</td>\n",
       "    </tr>\n",
       "    <tr>\n",
       "      <th>23</th>\n",
       "      <td>117.333333</td>\n",
       "      <td>69.333333</td>\n",
       "      <td>66.0</td>\n",
       "      <td>72.0</td>\n",
       "      <td>White non-Hispanic</td>\n",
       "      <td>Male</td>\n",
       "      <td>454</td>\n",
       "      <td>1</td>\n",
       "      <td>23.61</td>\n",
       "      <td>51</td>\n",
       "    </tr>\n",
       "    <tr>\n",
       "      <th>24</th>\n",
       "      <td>134.666667</td>\n",
       "      <td>87.333333</td>\n",
       "      <td>92.0</td>\n",
       "      <td>82.0</td>\n",
       "      <td>Hispanic</td>\n",
       "      <td>Male</td>\n",
       "      <td>508</td>\n",
       "      <td>1</td>\n",
       "      <td>32.89</td>\n",
       "      <td>38</td>\n",
       "    </tr>\n",
       "    <tr>\n",
       "      <th>25</th>\n",
       "      <td>121.333333</td>\n",
       "      <td>52.000000</td>\n",
       "      <td>54.0</td>\n",
       "      <td>50.0</td>\n",
       "      <td>White non-Hispanic</td>\n",
       "      <td>Male</td>\n",
       "      <td>646</td>\n",
       "      <td>1</td>\n",
       "      <td>24.88</td>\n",
       "      <td>42</td>\n",
       "    </tr>\n",
       "  </tbody>\n",
       "</table>\n",
       "</div>"
      ],
      "text/plain": [
       "        BPXSAR     BPXDAR  BPXDI1  BPXDI2           race_ethc gender  \\\n",
       "0   108.000000  56.000000    56.0    58.0               Other   Male   \n",
       "2   120.000000  82.666667    80.0    86.0  White non-Hispanic   Male   \n",
       "4   150.666667  96.000000   100.0    94.0  Black non-Hispanic   Male   \n",
       "5    99.000000  62.000000    66.0    62.0  White non-Hispanic   Male   \n",
       "10  136.000000  82.000000     NaN    80.0  White non-Hispanic   Male   \n",
       "11  144.000000  90.000000    90.0     NaN  White non-Hispanic   Male   \n",
       "15  109.333333  73.333333    72.0    74.0  Black non-Hispanic   Male   \n",
       "23  117.333333  69.333333    66.0    72.0  White non-Hispanic   Male   \n",
       "24  134.666667  87.333333    92.0    82.0            Hispanic   Male   \n",
       "25  121.333333  52.000000    54.0    50.0  White non-Hispanic   Male   \n",
       "\n",
       "    DR1TFOLA  RIAGENDR  BMXBMI  RIDAGEYR  \n",
       "0        434         1   25.83        65  \n",
       "2        380         1   24.49        54  \n",
       "4        422         1   24.63        49  \n",
       "5        319         1   21.35        69  \n",
       "10       498         1   22.27        31  \n",
       "11       433         1   45.98        54  \n",
       "15       703         1   18.70        16  \n",
       "23       454         1   23.61        51  \n",
       "24       508         1   32.89        38  \n",
       "25       646         1   24.88        42  "
      ]
     },
     "execution_count": 13,
     "metadata": {},
     "output_type": "execute_result"
    }
   ],
   "source": [
    "# Selecting on criteria\n",
    "# NOTE use of \".\" dot notation\n",
    "heart[(heart.DR1TFOLA >300) & (heart.gender =='Male')].head(10)"
   ]
  },
  {
   "cell_type": "markdown",
   "metadata": {},
   "source": [
    "## Instant plotting"
   ]
  },
  {
   "cell_type": "code",
   "execution_count": 14,
   "metadata": {
    "collapsed": false
   },
   "outputs": [
    {
     "data": {
      "text/plain": [
       "array([<matplotlib.axes._subplots.AxesSubplot object at 0x7f4318ab85f8>,\n",
       "       <matplotlib.axes._subplots.AxesSubplot object at 0x7f431882dcc0>],\n",
       "      dtype=object)"
      ]
     },
     "execution_count": 14,
     "metadata": {},
     "output_type": "execute_result"
    },
    {
     "data": {
      "image/png": "[encoded data removed]",
      "text/plain": [
       "<Figure size 1440x360 with 2 Axes>"
      ]
     },
     "metadata": {},
     "output_type": "display_data"
    }
   ],
   "source": [
    "%matplotlib inline\n",
    "import matplotlib.pylab as plt\n",
    "\n",
    "heart.boxplot(column=['BPXSAR', 'BPXDAR'], by='race_ethc', figsize=(20,5))"
   ]
  },
  {
   "cell_type": "code",
   "execution_count": 18,
   "metadata": {
    "collapsed": false
   },
   "outputs": [
    {
     "data": {
      "text/plain": [
       "array([[<matplotlib.axes._subplots.AxesSubplot object at 0x7f4317eeb908>,\n",
       "        <matplotlib.axes._subplots.AxesSubplot object at 0x7f4317d0acf8>],\n",
       "       [<matplotlib.axes._subplots.AxesSubplot object at 0x7f4317cb1390>,\n",
       "        <matplotlib.axes._subplots.AxesSubplot object at 0x7f4317cd7a20>]],\n",
       "      dtype=object)"
      ]
     },
     "execution_count": 18,
     "metadata": {},
     "output_type": "execute_result"
    },
    {
     "data": {
      "image/png": "[encoded data removed]",
      "text/plain": [
       "<Figure size 720x720 with 4 Axes>"
      ]
     },
     "metadata": {},
     "output_type": "display_data"
    }
   ],
   "source": [
    "heart.hist(column=['BPXSAR', 'BPXDAR', 'DR1TFOLA', 'RIDAGEYR'], bins=20, figsize=(10,10))"
   ]
  },
  {
   "cell_type": "code",
   "execution_count": null,
   "metadata": {
    "collapsed": true
   },
   "outputs": [],
   "source": []
  }
 ],
 "metadata": {
  "gist": {
   "data": {
    "description": "",
    "public": false
   },
   "id": ""
  },
  "kernelspec": {
   "display_name": "Python 3",
   "language": "python",
   "name": "python3"
  },
  "language_info": {
   "codemirror_mode": {
    "name": "ipython",
    "version": 3
   },
   "file_extension": ".py",
   "mimetype": "text/x-python",
   "name": "python",
   "nbconvert_exporter": "python",
   "pygments_lexer": "ipython3",
   "version": "3.6.6"
  },
  "latex_envs": {
   "bibliofile": "biblio.bib",
   "cite_by": "apalike",
   "current_citInitial": 1,
   "eqLabelWithNumbers": true,
   "eqNumInitial": 0
  },
  "nav_menu": {},
  "toc": {
   "navigate_menu": true,
   "number_sections": false,
   "sideBar": true,
   "threshold": 6,
   "toc_cell": false,
   "toc_section_display": "block",
   "toc_window_display": true
  }
 },
 "nbformat": 4,
 "nbformat_minor": 2
}
